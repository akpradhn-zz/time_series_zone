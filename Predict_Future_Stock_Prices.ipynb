{
 "cells": [
  {
   "cell_type": "markdown",
   "metadata": {},
   "source": [
    "## Bajaj Finance Limited (BAJFINANCE.NS\n",
    "\n",
    "- Bajaj Finance Ltd is engaged in the business of retail financing. \n",
    "- The company is engaged in providing finance for two-wheelers, consumer durables, personal computers, personal loans, insurance services, etc.\n",
    "- They also extended their product line with the launch of IPO financing for high networth customers. \n",
    "- The company plans to introduce new products, thus increasing its product portfolio as well as widen its presence in semi-urban and rural markets.\n",
    "- It is listed on the BSE with a BSE Code of 500034 and the NSE with an NSE Code of BAJFINANCE.\n",
    "\n",
    "[https://www.moneycontrol.com/india/stockpricequote/finance-leasinghire-purchase/bajajfinance/BAF]"
   ]
  },
  {
   "cell_type": "markdown",
   "metadata": {},
   "source": [
    "#### Scope of the Project \n",
    "- Use the historical time series information of the Stock price and Build a model which can forcast next n time period. \n"
   ]
  },
  {
   "cell_type": "markdown",
   "metadata": {},
   "source": [
    "### Import Libraries"
   ]
  },
  {
   "cell_type": "code",
   "execution_count": 1,
   "metadata": {},
   "outputs": [],
   "source": [
    "import numpy as np\n",
    "import matplotlib.pyplot as plt\n",
    "import pandas as pd"
   ]
  },
  {
   "cell_type": "code",
   "execution_count": 2,
   "metadata": {},
   "outputs": [],
   "source": [
    "### import Dataset\n",
    "## Note : The Data can be downloaded from yahoon finance for a given date time\n",
    "\n",
    "DATA_PATH = 'BAJFINANCE.NS.csv'\n",
    "\n",
    "bajfinanace_raw = pd.read_csv(DATA_PATH)"
   ]
  },
  {
   "cell_type": "code",
   "execution_count": 3,
   "metadata": {},
   "outputs": [
    {
     "data": {
      "text/html": [
       "<div>\n",
       "<style scoped>\n",
       "    .dataframe tbody tr th:only-of-type {\n",
       "        vertical-align: middle;\n",
       "    }\n",
       "\n",
       "    .dataframe tbody tr th {\n",
       "        vertical-align: top;\n",
       "    }\n",
       "\n",
       "    .dataframe thead th {\n",
       "        text-align: right;\n",
       "    }\n",
       "</style>\n",
       "<table border=\"1\" class=\"dataframe\">\n",
       "  <thead>\n",
       "    <tr style=\"text-align: right;\">\n",
       "      <th></th>\n",
       "      <th>Date</th>\n",
       "      <th>Open</th>\n",
       "      <th>High</th>\n",
       "      <th>Low</th>\n",
       "      <th>Close</th>\n",
       "      <th>Adj Close</th>\n",
       "      <th>Volume</th>\n",
       "    </tr>\n",
       "  </thead>\n",
       "  <tbody>\n",
       "    <tr>\n",
       "      <th>0</th>\n",
       "      <td>2002-07-01</td>\n",
       "      <td>5.23974</td>\n",
       "      <td>5.54093</td>\n",
       "      <td>5.23974</td>\n",
       "      <td>5.41268</td>\n",
       "      <td>0.063028</td>\n",
       "      <td>21923.0</td>\n",
       "    </tr>\n",
       "    <tr>\n",
       "      <th>1</th>\n",
       "      <td>2002-07-02</td>\n",
       "      <td>5.52344</td>\n",
       "      <td>5.53704</td>\n",
       "      <td>5.42142</td>\n",
       "      <td>5.44377</td>\n",
       "      <td>0.063391</td>\n",
       "      <td>61045.0</td>\n",
       "    </tr>\n",
       "    <tr>\n",
       "      <th>2</th>\n",
       "      <td>2002-07-03</td>\n",
       "      <td>5.50595</td>\n",
       "      <td>5.54579</td>\n",
       "      <td>5.32815</td>\n",
       "      <td>5.46612</td>\n",
       "      <td>0.063651</td>\n",
       "      <td>34161.0</td>\n",
       "    </tr>\n",
       "    <tr>\n",
       "      <th>3</th>\n",
       "      <td>2002-07-04</td>\n",
       "      <td>5.50109</td>\n",
       "      <td>5.57202</td>\n",
       "      <td>5.41754</td>\n",
       "      <td>5.52830</td>\n",
       "      <td>0.064375</td>\n",
       "      <td>27893.0</td>\n",
       "    </tr>\n",
       "    <tr>\n",
       "      <th>4</th>\n",
       "      <td>2002-07-05</td>\n",
       "      <td>5.56327</td>\n",
       "      <td>5.65655</td>\n",
       "      <td>5.47486</td>\n",
       "      <td>5.59048</td>\n",
       "      <td>0.065099</td>\n",
       "      <td>58976.0</td>\n",
       "    </tr>\n",
       "  </tbody>\n",
       "</table>\n",
       "</div>"
      ],
      "text/plain": [
       "         Date     Open     High      Low    Close  Adj Close   Volume\n",
       "0  2002-07-01  5.23974  5.54093  5.23974  5.41268   0.063028  21923.0\n",
       "1  2002-07-02  5.52344  5.53704  5.42142  5.44377   0.063391  61045.0\n",
       "2  2002-07-03  5.50595  5.54579  5.32815  5.46612   0.063651  34161.0\n",
       "3  2002-07-04  5.50109  5.57202  5.41754  5.52830   0.064375  27893.0\n",
       "4  2002-07-05  5.56327  5.65655  5.47486  5.59048   0.065099  58976.0"
      ]
     },
     "execution_count": 3,
     "metadata": {},
     "output_type": "execute_result"
    }
   ],
   "source": [
    "bajfinanace_raw.head()"
   ]
  },
  {
   "cell_type": "code",
   "execution_count": 4,
   "metadata": {},
   "outputs": [
    {
     "data": {
      "text/html": [
       "<div>\n",
       "<style scoped>\n",
       "    .dataframe tbody tr th:only-of-type {\n",
       "        vertical-align: middle;\n",
       "    }\n",
       "\n",
       "    .dataframe tbody tr th {\n",
       "        vertical-align: top;\n",
       "    }\n",
       "\n",
       "    .dataframe thead th {\n",
       "        text-align: right;\n",
       "    }\n",
       "</style>\n",
       "<table border=\"1\" class=\"dataframe\">\n",
       "  <thead>\n",
       "    <tr style=\"text-align: right;\">\n",
       "      <th></th>\n",
       "      <th>Open</th>\n",
       "      <th>High</th>\n",
       "      <th>Low</th>\n",
       "      <th>Close</th>\n",
       "      <th>Adj Close</th>\n",
       "      <th>Volume</th>\n",
       "    </tr>\n",
       "  </thead>\n",
       "  <tbody>\n",
       "    <tr>\n",
       "      <th>count</th>\n",
       "      <td>4397.000000</td>\n",
       "      <td>4397.000000</td>\n",
       "      <td>4397.000000</td>\n",
       "      <td>4397.000000</td>\n",
       "      <td>4397.000000</td>\n",
       "      <td>4.397000e+03</td>\n",
       "    </tr>\n",
       "    <tr>\n",
       "      <th>mean</th>\n",
       "      <td>571.633174</td>\n",
       "      <td>580.018491</td>\n",
       "      <td>561.799821</td>\n",
       "      <td>571.092635</td>\n",
       "      <td>554.207986</td>\n",
       "      <td>6.130045e+05</td>\n",
       "    </tr>\n",
       "    <tr>\n",
       "      <th>std</th>\n",
       "      <td>1019.555198</td>\n",
       "      <td>1033.072861</td>\n",
       "      <td>1003.010378</td>\n",
       "      <td>1018.434699</td>\n",
       "      <td>1021.303140</td>\n",
       "      <td>1.237908e+06</td>\n",
       "    </tr>\n",
       "    <tr>\n",
       "      <th>min</th>\n",
       "      <td>3.673550</td>\n",
       "      <td>4.081610</td>\n",
       "      <td>3.673550</td>\n",
       "      <td>4.064120</td>\n",
       "      <td>0.047325</td>\n",
       "      <td>0.000000e+00</td>\n",
       "    </tr>\n",
       "    <tr>\n",
       "      <th>25%</th>\n",
       "      <td>25.915001</td>\n",
       "      <td>26.708799</td>\n",
       "      <td>25.275700</td>\n",
       "      <td>25.805201</td>\n",
       "      <td>8.966654</td>\n",
       "      <td>6.866100e+04</td>\n",
       "    </tr>\n",
       "    <tr>\n",
       "      <th>50%</th>\n",
       "      <td>63.638599</td>\n",
       "      <td>64.901604</td>\n",
       "      <td>62.356098</td>\n",
       "      <td>63.604599</td>\n",
       "      <td>40.334492</td>\n",
       "      <td>1.993500e+05</td>\n",
       "    </tr>\n",
       "    <tr>\n",
       "      <th>75%</th>\n",
       "      <td>547.500000</td>\n",
       "      <td>556.989990</td>\n",
       "      <td>541.099976</td>\n",
       "      <td>546.044983</td>\n",
       "      <td>520.257874</td>\n",
       "      <td>6.967300e+05</td>\n",
       "    </tr>\n",
       "    <tr>\n",
       "      <th>max</th>\n",
       "      <td>4867.899902</td>\n",
       "      <td>4923.399902</td>\n",
       "      <td>4853.750000</td>\n",
       "      <td>4880.450195</td>\n",
       "      <td>4869.258301</td>\n",
       "      <td>2.148606e+07</td>\n",
       "    </tr>\n",
       "  </tbody>\n",
       "</table>\n",
       "</div>"
      ],
      "text/plain": [
       "              Open         High          Low        Close    Adj Close  \\\n",
       "count  4397.000000  4397.000000  4397.000000  4397.000000  4397.000000   \n",
       "mean    571.633174   580.018491   561.799821   571.092635   554.207986   \n",
       "std    1019.555198  1033.072861  1003.010378  1018.434699  1021.303140   \n",
       "min       3.673550     4.081610     3.673550     4.064120     0.047325   \n",
       "25%      25.915001    26.708799    25.275700    25.805201     8.966654   \n",
       "50%      63.638599    64.901604    62.356098    63.604599    40.334492   \n",
       "75%     547.500000   556.989990   541.099976   546.044983   520.257874   \n",
       "max    4867.899902  4923.399902  4853.750000  4880.450195  4869.258301   \n",
       "\n",
       "             Volume  \n",
       "count  4.397000e+03  \n",
       "mean   6.130045e+05  \n",
       "std    1.237908e+06  \n",
       "min    0.000000e+00  \n",
       "25%    6.866100e+04  \n",
       "50%    1.993500e+05  \n",
       "75%    6.967300e+05  \n",
       "max    2.148606e+07  "
      ]
     },
     "execution_count": 4,
     "metadata": {},
     "output_type": "execute_result"
    }
   ],
   "source": [
    "bajfinanace_raw.describe()"
   ]
  },
  {
   "cell_type": "markdown",
   "metadata": {},
   "source": [
    "- The Minimum Open price of the stock was 3.67 and highest was 4867.89. \n",
    "- Standard Deviation is 1019.555198 for Open Stock Price suggest the volatility of the Stock opening price. \n",
    "- Other the period the stock price has grown to 1326 times since inceptions."
   ]
  },
  {
   "cell_type": "markdown",
   "metadata": {},
   "source": [
    "### Filling Missing Values with Nearest Values"
   ]
  },
  {
   "cell_type": "code",
   "execution_count": 5,
   "metadata": {},
   "outputs": [],
   "source": [
    "bajfinanace_clean = bajfinanace_raw['Open'].interpolate(method='nearest')"
   ]
  },
  {
   "cell_type": "code",
   "execution_count": 6,
   "metadata": {},
   "outputs": [],
   "source": [
    "del bajfinanace_raw"
   ]
  },
  {
   "cell_type": "markdown",
   "metadata": {},
   "source": [
    "# Split Train and Test"
   ]
  },
  {
   "cell_type": "markdown",
   "metadata": {},
   "source": [
    "We will be looking at the Opening Price of the Stoock "
   ]
  },
  {
   "cell_type": "code",
   "execution_count": 7,
   "metadata": {},
   "outputs": [
    {
     "data": {
      "text/plain": [
       "array([[   5.23974 ],\n",
       "       [   5.52344 ],\n",
       "       [   5.50595 ],\n",
       "       ...,\n",
       "       [2365.050049],\n",
       "       [2200.      ],\n",
       "       [2130.      ]])"
      ]
     },
     "execution_count": 7,
     "metadata": {},
     "output_type": "execute_result"
    }
   ],
   "source": [
    "bajfinanace_complete = np.reshape(bajfinanace_clean.values, (-1, 1))\n",
    "bajfinanace_complete "
   ]
  },
  {
   "cell_type": "markdown",
   "metadata": {},
   "source": [
    "## Data Normalization"
   ]
  },
  {
   "cell_type": "code",
   "execution_count": 8,
   "metadata": {},
   "outputs": [
    {
     "data": {
      "text/plain": [
       "array([[3.21981316e-04],\n",
       "       [3.80305082e-04],\n",
       "       [3.76709443e-04],\n",
       "       ...,\n",
       "       [4.85457774e-01],\n",
       "       [4.51526366e-01],\n",
       "       [4.37135589e-01]])"
      ]
     },
     "execution_count": 8,
     "metadata": {},
     "output_type": "execute_result"
    }
   ],
   "source": [
    "from sklearn.preprocessing import MinMaxScaler\n",
    "\n",
    "scaler = MinMaxScaler(feature_range = (0,1))\n",
    "\n",
    "bajfinanace_scaled = scaler.fit_transform(bajfinanace_complete)\n",
    "bajfinanace_scaled"
   ]
  },
  {
   "cell_type": "code",
   "execution_count": 9,
   "metadata": {},
   "outputs": [],
   "source": [
    "bajfinanace_train = bajfinanace_scaled[0:3552]\n",
    "bajfinanace_test  = bajfinanace_scaled[3552:]"
   ]
  },
  {
   "cell_type": "markdown",
   "metadata": {},
   "source": [
    "## Convert Training Data to Right Shape"
   ]
  },
  {
   "cell_type": "markdown",
   "metadata": {},
   "source": [
    "In a Time series problem, We have to predict a value at time t based on the data from days t-n where n can be any numbers of steps.\n",
    "\n",
    "Out feature Set should contain the opening stock price values for the past 180 dasy \n",
    "while the lable or dependent variable should be the stock at the 181 day."
   ]
  },
  {
   "cell_type": "code",
   "execution_count": 10,
   "metadata": {},
   "outputs": [],
   "source": [
    "feature_set = []\n",
    "labels = []\n",
    "\n",
    "for i in range(180,3552):\n",
    "    feature_set.append(bajfinanace_train[i-180:i,0])\n",
    "    labels.append(bajfinanace_train[i,0])"
   ]
  },
  {
   "cell_type": "code",
   "execution_count": 11,
   "metadata": {},
   "outputs": [],
   "source": [
    "feature_set, labels = np.array(feature_set), np.array(labels)"
   ]
  },
  {
   "cell_type": "markdown",
   "metadata": {},
   "source": [
    "### Convert Data to the share on LSTM Model"
   ]
  },
  {
   "cell_type": "markdown",
   "metadata": {},
   "source": [
    "- We need to convert the Data into a 3-Dimentional format. \n",
    "First Dimension is the number of records or rows in the data sets which is 4397. \n",
    "Second dimension is the number od time step which in 60\n",
    "Last one number of indicator which is 1 in our case. \n"
   ]
  },
  {
   "cell_type": "code",
   "execution_count": 12,
   "metadata": {},
   "outputs": [],
   "source": [
    "feature_set = np.reshape(feature_set,(feature_set.shape[0],feature_set.shape[1],1))"
   ]
  },
  {
   "cell_type": "code",
   "execution_count": 13,
   "metadata": {},
   "outputs": [
    {
     "data": {
      "text/plain": [
       "180"
      ]
     },
     "execution_count": 13,
     "metadata": {},
     "output_type": "execute_result"
    }
   ],
   "source": [
    "feature_set.shape[1]"
   ]
  },
  {
   "cell_type": "markdown",
   "metadata": {},
   "source": [
    "## Building Mode"
   ]
  },
  {
   "cell_type": "code",
   "execution_count": 14,
   "metadata": {},
   "outputs": [
    {
     "name": "stderr",
     "output_type": "stream",
     "text": [
      "Using TensorFlow backend.\n"
     ]
    }
   ],
   "source": [
    "from keras.models import Sequential\n",
    "from keras.layers import Dense\n",
    "from keras.layers import LSTM\n",
    "from keras.layers import Dropout\n",
    "from keras.callbacks import EarlyStopping"
   ]
  },
  {
   "cell_type": "code",
   "execution_count": 105,
   "metadata": {},
   "outputs": [],
   "source": [
    "from random import seed\n",
    "seed(100)\n",
    "model = Sequential()\n",
    "model.add(LSTM(units=50,\n",
    "              return_sequences = False,\n",
    "              input_shape = (feature_set.shape[1],1)))\n",
    "\n",
    "model.add(Dropout(0.2))\n",
    "model.add(Dense(units=1))\n",
    "\n",
    "model.compile(optimizer='adam',loss='mean_squared_error',metrics=['accuracy'])\n",
    "early_stop = EarlyStopping(monitor='loss', patience=2, verbose=1)"
   ]
  },
  {
   "cell_type": "code",
   "execution_count": 112,
   "metadata": {
    "scrolled": false
   },
   "outputs": [
    {
     "name": "stdout",
     "output_type": "stream",
     "text": [
      "Epoch 1/10\n",
      "3372/3372 [==============================] - 6s 2ms/step - loss: 2.2615e-05 - accuracy: 0.0000e+00\n",
      "Epoch 2/10\n",
      "3372/3372 [==============================] - 6s 2ms/step - loss: 1.6572e-05 - accuracy: 0.0000e+00\n",
      "Epoch 3/10\n",
      "3372/3372 [==============================] - 6s 2ms/step - loss: 1.7884e-05 - accuracy: 0.0000e+00\n",
      "Epoch 4/10\n",
      "3372/3372 [==============================] - 6s 2ms/step - loss: 1.5854e-05 - accuracy: 0.0000e+00\n",
      "Epoch 5/10\n",
      "3372/3372 [==============================] - 6s 2ms/step - loss: 2.2494e-05 - accuracy: 0.0000e+00\n",
      "Epoch 6/10\n",
      "3372/3372 [==============================] - 6s 2ms/step - loss: 1.5886e-05 - accuracy: 0.0000e+00\n",
      "Epoch 00006: early stopping\n"
     ]
    }
   ],
   "source": [
    "history = model.fit(feature_set,labels,epochs = 10, \n",
    "                                        batch_size=25,\n",
    "                                        verbose=1, \n",
    "                                        shuffle=False, \n",
    "                                        callbacks=[early_stop]\n",
    "                   )"
   ]
  },
  {
   "cell_type": "markdown",
   "metadata": {},
   "source": [
    "## Loss during training"
   ]
  },
  {
   "cell_type": "code",
   "execution_count": 113,
   "metadata": {},
   "outputs": [
    {
     "data": {
      "text/plain": [
       "Text(0.5, 0, 'epoch')"
      ]
     },
     "execution_count": 113,
     "metadata": {},
     "output_type": "execute_result"
    },
    {
     "data": {
      "image/png": "[encoded data removed]",
      "text/plain": [
       "<Figure size 432x288 with 1 Axes>"
      ]
     },
     "metadata": {
      "needs_background": "light"
     },
     "output_type": "display_data"
    }
   ],
   "source": [
    "plt.plot(history.history['loss'])\n",
    "plt.title('model train vs validation loss')\n",
    "plt.ylabel('loss')\n",
    "plt.xlabel('epoch')"
   ]
  },
  {
   "cell_type": "code",
   "execution_count": 114,
   "metadata": {},
   "outputs": [
    {
     "name": "stderr",
     "output_type": "stream",
     "text": [
      "No handles with labels found to put in legend.\n"
     ]
    },
    {
     "data": {
      "text/plain": [
       "<matplotlib.legend.Legend at 0x147becfd0>"
      ]
     },
     "execution_count": 114,
     "metadata": {},
     "output_type": "execute_result"
    },
    {
     "data": {
      "image/png": "[encoded data removed]",
      "text/plain": [
       "<Figure size 432x288 with 1 Axes>"
      ]
     },
     "metadata": {
      "needs_background": "light"
     },
     "output_type": "display_data"
    }
   ],
   "source": [
    "# Loss during training\n",
    "plt.subplot(211)\n",
    "plt.title('Loss')\n",
    "plt.plot(history.history['accuracy'])\n",
    "plt.legend()\n",
    "\n",
    "# ### MSE During Training \n",
    "# plt.subplot(212)\n",
    "# plt.title('Mean Squared Error')\n",
    "# plt.plot(history.history['mean_squared_error'])\n",
    "# plt.legend()\n",
    "# plt.show()"
   ]
  },
  {
   "cell_type": "code",
   "execution_count": 115,
   "metadata": {},
   "outputs": [
    {
     "ename": "TypeError",
     "evalue": "'History' object is not callable",
     "output_type": "error",
     "traceback": [
      "\u001b[0;31m---------------------------------------------------------------------------\u001b[0m",
      "\u001b[0;31mTypeError\u001b[0m                                 Traceback (most recent call last)",
      "\u001b[0;32m<ipython-input-115-537dc6a1cb6f>\u001b[0m in \u001b[0;36m<module>\u001b[0;34m\u001b[0m\n\u001b[0;32m----> 1\u001b[0;31m \u001b[0mhistory\u001b[0m\u001b[0;34m(\u001b[0m\u001b[0;34m)\u001b[0m\u001b[0;34m\u001b[0m\u001b[0m\n\u001b[0m",
      "\u001b[0;31mTypeError\u001b[0m: 'History' object is not callable"
     ]
    }
   ],
   "source": [
    "history()"
   ]
  },
  {
   "cell_type": "markdown",
   "metadata": {},
   "source": [
    "## Prediction"
   ]
  },
  {
   "cell_type": "markdown",
   "metadata": {},
   "source": [
    "The input of each day should contain the opening stock proce for the previous 60 days.\n",
    "Which means we need opening stock prices for  889 days and 60 stock proces from last 60 days for the training set. "
   ]
  },
  {
   "cell_type": "code",
   "execution_count": 116,
   "metadata": {},
   "outputs": [],
   "source": [
    "past180fromtrain = bajfinanace_train[len(bajfinanace_train)-180:]"
   ]
  },
  {
   "cell_type": "code",
   "execution_count": 117,
   "metadata": {},
   "outputs": [],
   "source": [
    "test_inputs = np.concatenate([past180fromtrain,bajfinanace_test])"
   ]
  },
  {
   "cell_type": "code",
   "execution_count": 118,
   "metadata": {},
   "outputs": [
    {
     "data": {
      "text/plain": [
       "1069"
      ]
     },
     "execution_count": 118,
     "metadata": {},
     "output_type": "execute_result"
    }
   ],
   "source": [
    "test_inputs.shape[0]"
   ]
  },
  {
   "cell_type": "code",
   "execution_count": 119,
   "metadata": {},
   "outputs": [],
   "source": [
    "test_features = []\n",
    "for i in range(180,test_inputs.shape[0]):\n",
    "    test_features.append(test_inputs[i-180:i,0])"
   ]
  },
  {
   "cell_type": "code",
   "execution_count": 120,
   "metadata": {},
   "outputs": [],
   "source": [
    "test_features = np.array(test_features)\n",
    "test_features = np.reshape(test_features,(test_features.shape[0],test_features.shape[1],1))"
   ]
  },
  {
   "cell_type": "code",
   "execution_count": 121,
   "metadata": {},
   "outputs": [
    {
     "data": {
      "text/plain": [
       "(889, 180, 1)"
      ]
     },
     "execution_count": 121,
     "metadata": {},
     "output_type": "execute_result"
    }
   ],
   "source": [
    "test_features.shape"
   ]
  },
  {
   "cell_type": "code",
   "execution_count": 122,
   "metadata": {},
   "outputs": [],
   "source": [
    "predictions = model.predict(test_features)"
   ]
  },
  {
   "cell_type": "code",
   "execution_count": 123,
   "metadata": {},
   "outputs": [],
   "source": [
    "predictions = scaler.inverse_transform(predictions)\n",
    "test_data = scaler.inverse_transform(bajfinanace_test)"
   ]
  },
  {
   "cell_type": "code",
   "execution_count": 124,
   "metadata": {},
   "outputs": [
    {
     "data": {
      "image/png": "[encoded data removed]",
      "text/plain": [
       "<Figure size 2160x576 with 1 Axes>"
      ]
     },
     "metadata": {
      "needs_background": "light"
     },
     "output_type": "display_data"
    }
   ],
   "source": [
    "plt.figure(figsize=(30,8))\n",
    "plt.plot(test_data,color='blue', label = 'Actual Stock Price')\n",
    "plt.plot(predictions,color='red', label = 'Predicted Stock Price')\n",
    "plt.title('BAJFINANCE Stock Price Prediction')\n",
    "plt.xlabel('Date')\n",
    "plt.ylabel('Stock opening price')\n",
    "plt.legend()\n",
    "plt.show()"
   ]
  },
  {
   "cell_type": "code",
   "execution_count": 125,
   "metadata": {},
   "outputs": [],
   "source": [
    "test1_features = np.reshape(test_features[-1],(1,180,1))\n",
    "# model.predict(test1_features)\n",
    "#test1_features"
   ]
  },
  {
   "cell_type": "code",
   "execution_count": 126,
   "metadata": {},
   "outputs": [],
   "source": [
    "prediction1 = model.predict(test1_features)"
   ]
  },
  {
   "cell_type": "code",
   "execution_count": 127,
   "metadata": {},
   "outputs": [
    {
     "data": {
      "text/plain": [
       "array([[2223.7773]], dtype=float32)"
      ]
     },
     "execution_count": 127,
     "metadata": {},
     "output_type": "execute_result"
    }
   ],
   "source": [
    "prediction1 = scaler.inverse_transform(prediction1)\n",
    "prediction1"
   ]
  },
  {
   "cell_type": "code",
   "execution_count": 128,
   "metadata": {},
   "outputs": [
    {
     "data": {
      "text/plain": [
       "array([[1103.2788 ],\n",
       "       [1096.4492 ],\n",
       "       [1092.7109 ],\n",
       "       [1108.2745 ],\n",
       "       [1117.4144 ],\n",
       "       [1128.731  ],\n",
       "       [1130.13   ],\n",
       "       [1134.3646 ],\n",
       "       [1112.8823 ],\n",
       "       [1101.8094 ],\n",
       "       [1100.213  ],\n",
       "       [1099.8683 ],\n",
       "       [1096.4552 ],\n",
       "       [1097.308  ],\n",
       "       [1098.2307 ],\n",
       "       [1099.2966 ],\n",
       "       [1093.3186 ],\n",
       "       [1088.8796 ],\n",
       "       [1092.7515 ],\n",
       "       [1107.1526 ],\n",
       "       [1119.9597 ],\n",
       "       [1130.8346 ],\n",
       "       [1141.832  ],\n",
       "       [1147.0219 ],\n",
       "       [1153.2008 ],\n",
       "       [1160.3611 ],\n",
       "       [1151.3694 ],\n",
       "       [1136.573  ],\n",
       "       [1111.7002 ],\n",
       "       [1085.5471 ],\n",
       "       [1066.887  ],\n",
       "       [1046.686  ],\n",
       "       [1028.7325 ],\n",
       "       [ 993.7565 ],\n",
       "       [ 975.6787 ],\n",
       "       [ 955.7679 ],\n",
       "       [ 927.26843],\n",
       "       [ 893.9373 ],\n",
       "       [ 892.1028 ],\n",
       "       [ 886.4667 ],\n",
       "       [ 890.5258 ],\n",
       "       [ 883.9699 ],\n",
       "       [ 885.3339 ],\n",
       "       [ 880.49524],\n",
       "       [ 871.73254],\n",
       "       [ 878.06445],\n",
       "       [ 887.1105 ],\n",
       "       [ 902.7055 ],\n",
       "       [ 920.42914],\n",
       "       [ 927.67883],\n",
       "       [ 926.4623 ],\n",
       "       [ 928.193  ],\n",
       "       [ 929.6379 ],\n",
       "       [ 930.5407 ],\n",
       "       [ 932.51935],\n",
       "       [ 928.7803 ],\n",
       "       [ 902.2153 ],\n",
       "       [ 884.86566],\n",
       "       [ 870.5063 ],\n",
       "       [ 868.3325 ],\n",
       "       [ 866.90173],\n",
       "       [ 859.02563],\n",
       "       [ 849.061  ],\n",
       "       [ 833.7957 ],\n",
       "       [ 819.53174],\n",
       "       [ 819.0133 ],\n",
       "       [ 821.23126],\n",
       "       [ 826.163  ],\n",
       "       [ 832.1621 ],\n",
       "       [ 843.27747],\n",
       "       [ 856.0374 ],\n",
       "       [ 871.34705],\n",
       "       [ 888.10565],\n",
       "       [ 899.4116 ],\n",
       "       [ 914.8897 ],\n",
       "       [ 919.0667 ],\n",
       "       [ 919.1094 ],\n",
       "       [ 923.3138 ],\n",
       "       [ 925.19574],\n",
       "       [ 923.1431 ],\n",
       "       [ 922.70026],\n",
       "       [ 929.25806],\n",
       "       [ 933.4247 ],\n",
       "       [ 939.86694],\n",
       "       [ 943.39075],\n",
       "       [ 940.99854],\n",
       "       [ 945.7486 ],\n",
       "       [ 948.56226],\n",
       "       [ 971.13885],\n",
       "       [ 987.50555],\n",
       "       [1020.4837 ],\n",
       "       [1040.959  ],\n",
       "       [1063.3489 ],\n",
       "       [1075.2921 ],\n",
       "       [1081.8123 ],\n",
       "       [1088.3785 ],\n",
       "       [1088.6884 ],\n",
       "       [1086.4467 ],\n",
       "       [1079.525  ],\n",
       "       [1076.5929 ],\n",
       "       [1076.5093 ],\n",
       "       [1075.8369 ],\n",
       "       [1069.7363 ],\n",
       "       [1085.4636 ],\n",
       "       [1094.861  ],\n",
       "       [1102.0509 ],\n",
       "       [1107.9326 ],\n",
       "       [1108.1525 ],\n",
       "       [1103.4299 ],\n",
       "       [1106.6602 ],\n",
       "       [1116.2147 ],\n",
       "       [1113.2114 ],\n",
       "       [1098.926  ],\n",
       "       [1088.0098 ],\n",
       "       [1073.6664 ],\n",
       "       [1069.4487 ],\n",
       "       [1072.9147 ],\n",
       "       [1082.899  ],\n",
       "       [1098.1936 ],\n",
       "       [1116.3257 ],\n",
       "       [1133.9851 ],\n",
       "       [1156.3102 ],\n",
       "       [1171.61   ],\n",
       "       [1183.7258 ],\n",
       "       [1185.9548 ],\n",
       "       [1186.9539 ],\n",
       "       [1194.7528 ],\n",
       "       [1196.4543 ],\n",
       "       [1201.8671 ],\n",
       "       [1207.4325 ],\n",
       "       [1205.5488 ],\n",
       "       [1205.3564 ],\n",
       "       [1199.357  ],\n",
       "       [1199.9545 ],\n",
       "       [1197.2006 ],\n",
       "       [1201.134  ],\n",
       "       [1206.0972 ],\n",
       "       [1223.8489 ],\n",
       "       [1243.3231 ],\n",
       "       [1261.173  ],\n",
       "       [1276.4684 ],\n",
       "       [1280.7062 ],\n",
       "       [1276.3707 ],\n",
       "       [1275.0837 ],\n",
       "       [1272.8219 ],\n",
       "       [1270.2325 ],\n",
       "       [1276.4778 ],\n",
       "       [1302.3884 ],\n",
       "       [1315.7891 ],\n",
       "       [1314.0128 ],\n",
       "       [1311.1158 ],\n",
       "       [1303.6265 ],\n",
       "       [1296.9346 ],\n",
       "       [1298.656  ],\n",
       "       [1293.4379 ],\n",
       "       [1290.6396 ],\n",
       "       [1294.9026 ],\n",
       "       [1311.4843 ],\n",
       "       [1325.2576 ],\n",
       "       [1333.3152 ],\n",
       "       [1342.8739 ],\n",
       "       [1353.3564 ],\n",
       "       [1345.1738 ],\n",
       "       [1343.6666 ],\n",
       "       [1334.2405 ],\n",
       "       [1310.8469 ],\n",
       "       [1286.1107 ],\n",
       "       [1265.465  ],\n",
       "       [1260.3778 ],\n",
       "       [1277.2175 ],\n",
       "       [1290.3812 ],\n",
       "       [1307.5552 ],\n",
       "       [1324.9933 ],\n",
       "       [1337.8225 ],\n",
       "       [1357.5334 ],\n",
       "       [1370.7283 ],\n",
       "       [1372.3824 ],\n",
       "       [1372.047  ],\n",
       "       [1373.9067 ],\n",
       "       [1378.198  ],\n",
       "       [1382.5237 ],\n",
       "       [1385.6636 ],\n",
       "       [1383.6471 ],\n",
       "       [1397.6996 ],\n",
       "       [1406.9009 ],\n",
       "       [1414.5593 ],\n",
       "       [1418.9352 ],\n",
       "       [1425.6677 ],\n",
       "       [1426.1003 ],\n",
       "       [1423.7073 ],\n",
       "       [1402.7366 ],\n",
       "       [1395.6614 ],\n",
       "       [1387.5442 ],\n",
       "       [1385.785  ],\n",
       "       [1388.9089 ],\n",
       "       [1388.1687 ],\n",
       "       [1395.2188 ],\n",
       "       [1401.5876 ],\n",
       "       [1408.9706 ],\n",
       "       [1418.9384 ],\n",
       "       [1428.2336 ],\n",
       "       [1443.4438 ],\n",
       "       [1465.4238 ],\n",
       "       [1488.8175 ],\n",
       "       [1516.5958 ],\n",
       "       [1531.7609 ],\n",
       "       [1550.3628 ],\n",
       "       [1577.7543 ],\n",
       "       [1608.8226 ],\n",
       "       [1623.8107 ],\n",
       "       [1640.9536 ],\n",
       "       [1673.022  ],\n",
       "       [1687.6556 ],\n",
       "       [1710.1154 ],\n",
       "       [1723.4464 ],\n",
       "       [1735.8087 ],\n",
       "       [1739.8478 ],\n",
       "       [1737.586  ],\n",
       "       [1743.0967 ],\n",
       "       [1771.2722 ],\n",
       "       [1781.9087 ],\n",
       "       [1760.4572 ],\n",
       "       [1710.8496 ],\n",
       "       [1708.125  ],\n",
       "       [1712.8202 ],\n",
       "       [1720.0247 ],\n",
       "       [1721.5408 ],\n",
       "       [1721.4832 ],\n",
       "       [1722.3307 ],\n",
       "       [1719.2908 ],\n",
       "       [1746.3152 ],\n",
       "       [1764.9135 ],\n",
       "       [1798.5865 ],\n",
       "       [1814.0334 ],\n",
       "       [1823.0726 ],\n",
       "       [1824.7761 ],\n",
       "       [1825.7037 ],\n",
       "       [1828.3424 ],\n",
       "       [1820.8138 ],\n",
       "       [1843.9994 ],\n",
       "       [1893.0134 ],\n",
       "       [1912.8308 ],\n",
       "       [1936.345  ],\n",
       "       [1939.8271 ],\n",
       "       [1943.871  ],\n",
       "       [1938.9164 ],\n",
       "       [1938.9058 ],\n",
       "       [1940.7139 ],\n",
       "       [1940.3132 ],\n",
       "       [1936.2574 ],\n",
       "       [1933.1769 ],\n",
       "       [1915.0027 ],\n",
       "       [1879.2872 ],\n",
       "       [1869.2014 ],\n",
       "       [1851.1439 ],\n",
       "       [1851.3387 ],\n",
       "       [1855.5848 ],\n",
       "       [1867.6555 ],\n",
       "       [1874.4706 ],\n",
       "       [1884.6594 ],\n",
       "       [1907.8242 ],\n",
       "       [1932.0059 ],\n",
       "       [1957.9615 ],\n",
       "       [1968.7968 ],\n",
       "       [1978.8    ],\n",
       "       [1987.5887 ],\n",
       "       [1965.4677 ],\n",
       "       [1940.2262 ],\n",
       "       [1919.1272 ],\n",
       "       [1894.1381 ],\n",
       "       [1876.2144 ],\n",
       "       [1855.5779 ],\n",
       "       [1815.8334 ],\n",
       "       [1791.2255 ],\n",
       "       [1797.5262 ],\n",
       "       [1794.4532 ],\n",
       "       [1801.4808 ],\n",
       "       [1811.0924 ],\n",
       "       [1823.1245 ],\n",
       "       [1830.9539 ],\n",
       "       [1845.8608 ],\n",
       "       [1840.7604 ],\n",
       "       [1831.7067 ],\n",
       "       [1805.2263 ],\n",
       "       [1791.0116 ],\n",
       "       [1771.6908 ],\n",
       "       [1766.9033 ],\n",
       "       [1754.1956 ],\n",
       "       [1765.4849 ],\n",
       "       [1776.82   ],\n",
       "       [1797.4073 ],\n",
       "       [1814.2031 ],\n",
       "       [1814.4797 ],\n",
       "       [1810.7213 ],\n",
       "       [1807.8904 ],\n",
       "       [1802.2263 ],\n",
       "       [1794.8971 ],\n",
       "       [1785.635  ],\n",
       "       [1772.7091 ],\n",
       "       [1758.4819 ],\n",
       "       [1732.726  ],\n",
       "       [1719.6714 ],\n",
       "       [1706.9122 ],\n",
       "       [1698.7771 ],\n",
       "       [1702.2413 ],\n",
       "       [1706.1066 ],\n",
       "       [1707.412  ],\n",
       "       [1702.6613 ],\n",
       "       [1706.2239 ],\n",
       "       [1717.8341 ],\n",
       "       [1740.5227 ],\n",
       "       [1759.2986 ],\n",
       "       [1776.5332 ],\n",
       "       [1782.7766 ],\n",
       "       [1793.9996 ],\n",
       "       [1805.3953 ],\n",
       "       [1807.7753 ],\n",
       "       [1797.9454 ],\n",
       "       [1790.8789 ],\n",
       "       [1778.3541 ],\n",
       "       [1763.9088 ],\n",
       "       [1751.9185 ],\n",
       "       [1756.1729 ],\n",
       "       [1779.0785 ],\n",
       "       [1807.6277 ],\n",
       "       [1824.453  ],\n",
       "       [1829.2761 ],\n",
       "       [1825.4941 ],\n",
       "       [1816.0009 ],\n",
       "       [1798.6483 ],\n",
       "       [1767.6483 ],\n",
       "       [1747.0756 ],\n",
       "       [1716.4733 ],\n",
       "       [1709.7828 ],\n",
       "       [1707.4015 ],\n",
       "       [1710.28   ],\n",
       "       [1723.0912 ],\n",
       "       [1726.0754 ],\n",
       "       [1729.4424 ],\n",
       "       [1713.846  ],\n",
       "       [1706.9468 ],\n",
       "       [1709.8633 ],\n",
       "       [1679.9303 ],\n",
       "       [1632.1346 ],\n",
       "       [1639.0131 ],\n",
       "       [1642.5735 ],\n",
       "       [1640.7961 ],\n",
       "       [1645.396  ],\n",
       "       [1653.0559 ],\n",
       "       [1667.6134 ],\n",
       "       [1683.3613 ],\n",
       "       [1691.0321 ],\n",
       "       [1689.2491 ],\n",
       "       [1686.6135 ],\n",
       "       [1661.4554 ],\n",
       "       [1644.656  ],\n",
       "       [1641.9431 ],\n",
       "       [1653.283  ],\n",
       "       [1655.1428 ],\n",
       "       [1654.0663 ],\n",
       "       [1660.7008 ],\n",
       "       [1665.002  ],\n",
       "       [1663.9099 ],\n",
       "       [1660.3584 ],\n",
       "       [1656.8937 ],\n",
       "       [1662.6338 ],\n",
       "       [1668.8597 ],\n",
       "       [1676.1517 ],\n",
       "       [1695.3475 ],\n",
       "       [1710.3872 ],\n",
       "       [1717.4541 ],\n",
       "       [1698.7416 ],\n",
       "       [1694.8488 ],\n",
       "       [1702.1428 ],\n",
       "       [1692.7233 ],\n",
       "       [1697.8276 ],\n",
       "       [1718.888  ],\n",
       "       [1745.9998 ],\n",
       "       [1765.8177 ],\n",
       "       [1796.0397 ],\n",
       "       [1825.4955 ],\n",
       "       [1855.1802 ],\n",
       "       [1893.01   ],\n",
       "       [1928.541  ],\n",
       "       [1956.0823 ],\n",
       "       [1966.2672 ],\n",
       "       [1968.3689 ],\n",
       "       [1968.0426 ],\n",
       "       [1959.6766 ],\n",
       "       [1965.2864 ],\n",
       "       [1965.8174 ],\n",
       "       [1962.45   ],\n",
       "       [1950.6559 ],\n",
       "       [1931.6377 ],\n",
       "       [1924.724  ],\n",
       "       [1926.5558 ],\n",
       "       [1924.8864 ],\n",
       "       [1925.4229 ],\n",
       "       [1930.7059 ],\n",
       "       [1930.7947 ],\n",
       "       [1929.4336 ],\n",
       "       [1920.1906 ],\n",
       "       [1907.2986 ],\n",
       "       [1907.1652 ],\n",
       "       [1901.2312 ],\n",
       "       [1889.6693 ],\n",
       "       [1878.2286 ],\n",
       "       [1875.304  ],\n",
       "       [1875.251  ],\n",
       "       [1885.1168 ],\n",
       "       [1906.4384 ],\n",
       "       [1969.0906 ],\n",
       "       [2040.2766 ],\n",
       "       [2092.8362 ],\n",
       "       [2141.4985 ],\n",
       "       [2157.7283 ],\n",
       "       [2165.6213 ],\n",
       "       [2170.9592 ],\n",
       "       [2164.452  ],\n",
       "       [2142.2185 ],\n",
       "       [2146.3645 ],\n",
       "       [2144.11   ],\n",
       "       [2133.234  ],\n",
       "       [2116.1196 ],\n",
       "       [2120.2751 ],\n",
       "       [2142.0938 ],\n",
       "       [2160.3657 ],\n",
       "       [2189.8503 ],\n",
       "       [2228.1892 ],\n",
       "       [2263.355  ],\n",
       "       [2278.0403 ],\n",
       "       [2289.7012 ],\n",
       "       [2302.1665 ],\n",
       "       [2297.6055 ],\n",
       "       [2303.1006 ],\n",
       "       [2307.124  ],\n",
       "       [2306.286  ],\n",
       "       [2328.5222 ],\n",
       "       [2361.609  ],\n",
       "       [2387.405  ],\n",
       "       [2392.6892 ],\n",
       "       [2375.2273 ],\n",
       "       [2362.2732 ],\n",
       "       [2351.9727 ],\n",
       "       [2352.804  ],\n",
       "       [2357.0142 ],\n",
       "       [2361.6262 ],\n",
       "       [2372.4163 ],\n",
       "       [2382.0813 ],\n",
       "       [2391.5522 ],\n",
       "       [2401.4785 ],\n",
       "       [2427.5947 ],\n",
       "       [2462.322  ],\n",
       "       [2490.1055 ],\n",
       "       [2511.1013 ],\n",
       "       [2532.8704 ],\n",
       "       [2552.9287 ],\n",
       "       [2630.5374 ],\n",
       "       [2704.8887 ],\n",
       "       [2755.3271 ],\n",
       "       [2778.2803 ],\n",
       "       [2784.2158 ],\n",
       "       [2790.836  ],\n",
       "       [2777.0676 ],\n",
       "       [2775.2097 ],\n",
       "       [2772.3965 ],\n",
       "       [2765.1    ],\n",
       "       [2756.8716 ],\n",
       "       [2753.9912 ],\n",
       "       [2769.0432 ],\n",
       "       [2805.9866 ],\n",
       "       [2835.8872 ],\n",
       "       [2856.68   ],\n",
       "       [2856.1094 ],\n",
       "       [2873.5764 ],\n",
       "       [2897.6016 ],\n",
       "       [2920.1213 ],\n",
       "       [2924.431  ],\n",
       "       [2939.9893 ],\n",
       "       [2952.006  ],\n",
       "       [2975.436  ],\n",
       "       [3007.64   ],\n",
       "       [3015.8833 ],\n",
       "       [3039.5605 ],\n",
       "       [3037.7288 ],\n",
       "       [3014.1458 ],\n",
       "       [2939.7495 ],\n",
       "       [2879.5361 ],\n",
       "       [2828.7751 ],\n",
       "       [2782.834  ],\n",
       "       [2762.6948 ],\n",
       "       [2718.354  ],\n",
       "       [2685.4849 ],\n",
       "       [2668.2192 ],\n",
       "       [2669.8955 ],\n",
       "       [2661.0522 ],\n",
       "       [2648.3953 ],\n",
       "       [2621.7976 ],\n",
       "       [2565.6982 ],\n",
       "       [2459.1284 ],\n",
       "       [2401.3958 ],\n",
       "       [2360.8792 ],\n",
       "       [2308.1956 ],\n",
       "       [2251.7083 ],\n",
       "       [2222.2283 ],\n",
       "       [2196.905  ],\n",
       "       [2180.322  ],\n",
       "       [2119.3247 ],\n",
       "       [2065.2915 ],\n",
       "       [2064.8247 ],\n",
       "       [2073.557  ],\n",
       "       [2127.1665 ],\n",
       "       [2206.626  ],\n",
       "       [2275.92   ],\n",
       "       [2333.6934 ],\n",
       "       [2312.939  ],\n",
       "       [2294.9084 ],\n",
       "       [2243.735  ],\n",
       "       [2222.3213 ],\n",
       "       [2241.7573 ],\n",
       "       [2277.4734 ],\n",
       "       [2313.0513 ],\n",
       "       [2360.2039 ],\n",
       "       [2388.9292 ],\n",
       "       [2415.4705 ],\n",
       "       [2449.2568 ],\n",
       "       [2456.3281 ],\n",
       "       [2449.909  ],\n",
       "       [2436.6104 ],\n",
       "       [2419.4966 ],\n",
       "       [2412.6008 ],\n",
       "       [2374.241  ],\n",
       "       [2351.1008 ],\n",
       "       [2330.7869 ],\n",
       "       [2334.8806 ],\n",
       "       [2367.9426 ],\n",
       "       [2382.1194 ],\n",
       "       [2401.1243 ],\n",
       "       [2429.6936 ],\n",
       "       [2441.9883 ],\n",
       "       [2447.2554 ],\n",
       "       [2464.796  ],\n",
       "       [2474.365  ],\n",
       "       [2513.2092 ],\n",
       "       [2548.5293 ],\n",
       "       [2562.8022 ],\n",
       "       [2579.7295 ],\n",
       "       [2571.0618 ],\n",
       "       [2546.9773 ],\n",
       "       [2513.312  ],\n",
       "       [2468.2012 ],\n",
       "       [2458.9854 ],\n",
       "       [2477.6956 ],\n",
       "       [2491.8281 ],\n",
       "       [2508.9407 ],\n",
       "       [2514.2478 ],\n",
       "       [2543.3281 ],\n",
       "       [2570.6243 ],\n",
       "       [2609.5    ],\n",
       "       [2633.0762 ],\n",
       "       [2637.3005 ],\n",
       "       [2648.1445 ],\n",
       "       [2655.493  ],\n",
       "       [2676.5952 ],\n",
       "       [2689.1965 ],\n",
       "       [2694.1836 ],\n",
       "       [2688.2407 ],\n",
       "       [2677.2722 ],\n",
       "       [2666.7817 ],\n",
       "       [2644.7175 ],\n",
       "       [2621.8533 ],\n",
       "       [2597.6565 ],\n",
       "       [2576.436  ],\n",
       "       [2561.6982 ],\n",
       "       [2564.1814 ],\n",
       "       [2585.5093 ],\n",
       "       [2598.7148 ],\n",
       "       [2600.5635 ],\n",
       "       [2601.609  ],\n",
       "       [2613.3376 ],\n",
       "       [2634.0195 ],\n",
       "       [2657.539  ],\n",
       "       [2679.1855 ],\n",
       "       [2682.2893 ],\n",
       "       [2635.0652 ],\n",
       "       [2626.6316 ],\n",
       "       [2630.3706 ],\n",
       "       [2625.4026 ],\n",
       "       [2633.4456 ],\n",
       "       [2638.367  ],\n",
       "       [2648.9014 ],\n",
       "       [2692.2092 ],\n",
       "       [2711.841  ],\n",
       "       [2742.9749 ],\n",
       "       [2747.9507 ],\n",
       "       [2718.6736 ],\n",
       "       [2698.807  ],\n",
       "       [2661.2957 ],\n",
       "       [2630.9294 ],\n",
       "       [2619.2305 ],\n",
       "       [2622.1255 ],\n",
       "       [2642.6711 ],\n",
       "       [2658.8503 ],\n",
       "       [2672.3542 ],\n",
       "       [2693.312  ],\n",
       "       [2708.707  ],\n",
       "       [2718.3335 ],\n",
       "       [2721.0696 ],\n",
       "       [2740.314  ],\n",
       "       [2775.1384 ],\n",
       "       [2787.3164 ],\n",
       "       [2808.1467 ],\n",
       "       [2835.8982 ],\n",
       "       [2840.836  ],\n",
       "       [2864.1704 ],\n",
       "       [2877.4243 ],\n",
       "       [2902.9644 ],\n",
       "       [2941.396  ],\n",
       "       [2970.0137 ],\n",
       "       [2971.4424 ],\n",
       "       [2946.0452 ],\n",
       "       [2938.1633 ],\n",
       "       [2960.5903 ],\n",
       "       [2978.299  ],\n",
       "       [3022.591  ],\n",
       "       [3058.1643 ],\n",
       "       [3100.9614 ],\n",
       "       [3128.9397 ],\n",
       "       [3142.9277 ],\n",
       "       [3173.5435 ],\n",
       "       [3160.6643 ],\n",
       "       [3142.0781 ],\n",
       "       [3122.1553 ],\n",
       "       [3119.217  ],\n",
       "       [3110.8828 ],\n",
       "       [3101.6238 ],\n",
       "       [3101.8447 ],\n",
       "       [3094.3984 ],\n",
       "       [3083.016  ],\n",
       "       [3088.281  ],\n",
       "       [3115.997  ],\n",
       "       [3137.8816 ],\n",
       "       [3156.6287 ],\n",
       "       [3171.3298 ],\n",
       "       [3192.627  ],\n",
       "       [3187.197  ],\n",
       "       [3174.4001 ],\n",
       "       [3147.6133 ],\n",
       "       [3086.8928 ],\n",
       "       [3058.136  ],\n",
       "       [3025.5422 ],\n",
       "       [3002.3542 ],\n",
       "       [2985.9106 ],\n",
       "       [3007.5818 ],\n",
       "       [3072.1138 ],\n",
       "       [3214.3643 ],\n",
       "       [3346.492  ],\n",
       "       [3458.4543 ],\n",
       "       [3556.2427 ],\n",
       "       [3590.3909 ],\n",
       "       [3626.495  ],\n",
       "       [3638.9033 ],\n",
       "       [3616.2078 ],\n",
       "       [3589.7905 ],\n",
       "       [3592.7659 ],\n",
       "       [3583.5703 ],\n",
       "       [3594.2283 ],\n",
       "       [3611.0247 ],\n",
       "       [3599.4788 ],\n",
       "       [3619.3635 ],\n",
       "       [3633.8152 ],\n",
       "       [3646.5647 ],\n",
       "       [3644.3618 ],\n",
       "       [3656.6462 ],\n",
       "       [3658.086  ],\n",
       "       [3639.5464 ],\n",
       "       [3643.7107 ],\n",
       "       [3641.4941 ],\n",
       "       [3666.066  ],\n",
       "       [3676.5818 ],\n",
       "       [3678.878  ],\n",
       "       [3687.1538 ],\n",
       "       [3714.9036 ],\n",
       "       [3744.0452 ],\n",
       "       [3779.2336 ],\n",
       "       [3809.869  ],\n",
       "       [3836.872  ],\n",
       "       [3860.5554 ],\n",
       "       [3877.3523 ],\n",
       "       [3883.9854 ],\n",
       "       [3779.6013 ],\n",
       "       [3747.401  ],\n",
       "       [3677.4573 ],\n",
       "       [3625.8254 ],\n",
       "       [3565.6409 ],\n",
       "       [3534.0276 ],\n",
       "       [3519.0195 ],\n",
       "       [3521.7031 ],\n",
       "       [3536.2827 ],\n",
       "       [3499.878  ],\n",
       "       [3449.0056 ],\n",
       "       [3412.5034 ],\n",
       "       [3361.019  ],\n",
       "       [3271.5134 ],\n",
       "       [3274.7805 ],\n",
       "       [3285.1978 ],\n",
       "       [3293.1003 ],\n",
       "       [3302.7961 ],\n",
       "       [3298.597  ],\n",
       "       [3298.1228 ],\n",
       "       [3284.4675 ],\n",
       "       [3310.3015 ],\n",
       "       [3339.2102 ],\n",
       "       [3386.865  ],\n",
       "       [3445.883  ],\n",
       "       [3442.8445 ],\n",
       "       [3435.2307 ],\n",
       "       [3451.064  ],\n",
       "       [3450.1265 ],\n",
       "       [3434.4956 ],\n",
       "       [3408.7666 ],\n",
       "       [3339.4258 ],\n",
       "       [3331.7825 ],\n",
       "       [3357.6455 ],\n",
       "       [3385.044  ],\n",
       "       [3402.3928 ],\n",
       "       [3411.6921 ],\n",
       "       [3415.0234 ],\n",
       "       [3403.668  ],\n",
       "       [3398.1638 ],\n",
       "       [3407.7026 ],\n",
       "       [3431.2837 ],\n",
       "       [3475.646  ],\n",
       "       [3498.8477 ],\n",
       "       [3510.233  ],\n",
       "       [3517.3213 ],\n",
       "       [3529.6013 ],\n",
       "       [3531.6243 ],\n",
       "       [3537.1067 ],\n",
       "       [3526.6245 ],\n",
       "       [3660.7637 ],\n",
       "       [3849.175  ],\n",
       "       [3986.281  ],\n",
       "       [4085.957  ],\n",
       "       [4167.367  ],\n",
       "       [4236.974  ],\n",
       "       [4283.3193 ],\n",
       "       [4274.665  ],\n",
       "       [4250.627  ],\n",
       "       [4187.5737 ],\n",
       "       [4140.799  ],\n",
       "       [4135.9507 ],\n",
       "       [4126.252  ],\n",
       "       [4125.612  ],\n",
       "       [4097.354  ],\n",
       "       [4079.882  ],\n",
       "       [4105.023  ],\n",
       "       [4158.1416 ],\n",
       "       [4228.1797 ],\n",
       "       [4261.5576 ],\n",
       "       [4274.164  ],\n",
       "       [4269.4004 ],\n",
       "       [4259.3735 ],\n",
       "       [4231.115  ],\n",
       "       [4233.778  ],\n",
       "       [4213.678  ],\n",
       "       [4205.4473 ],\n",
       "       [4219.754  ],\n",
       "       [4263.2754 ],\n",
       "       [4332.107  ],\n",
       "       [4371.5796 ],\n",
       "       [4404.8193 ],\n",
       "       [4406.114  ],\n",
       "       [4402.271  ],\n",
       "       [4390.996  ],\n",
       "       [4399.613  ],\n",
       "       [4399.451  ],\n",
       "       [4387.099  ],\n",
       "       [4367.179  ],\n",
       "       [4350.111  ],\n",
       "       [4333.5054 ],\n",
       "       [4311.242  ],\n",
       "       [4309.709  ],\n",
       "       [4303.681  ],\n",
       "       [4300.5225 ],\n",
       "       [4291.1313 ],\n",
       "       [4277.4434 ],\n",
       "       [4221.0703 ],\n",
       "       [4179.206  ],\n",
       "       [4158.302  ],\n",
       "       [4152.9136 ],\n",
       "       [4140.3936 ],\n",
       "       [4126.739  ],\n",
       "       [4135.2383 ],\n",
       "       [4162.097  ],\n",
       "       [4194.     ],\n",
       "       [4227.132  ],\n",
       "       [4242.6675 ],\n",
       "       [4279.9585 ],\n",
       "       [4299.3975 ],\n",
       "       [4309.2964 ],\n",
       "       [4323.7637 ],\n",
       "       [4339.284  ],\n",
       "       [4346.953  ],\n",
       "       [4366.8364 ],\n",
       "       [4407.9277 ],\n",
       "       [4432.002  ],\n",
       "       [4445.524  ],\n",
       "       [4453.2734 ],\n",
       "       [4449.2217 ],\n",
       "       [4423.5503 ],\n",
       "       [4362.238  ],\n",
       "       [4273.304  ],\n",
       "       [4252.499  ],\n",
       "       [4252.11   ],\n",
       "       [4273.2417 ],\n",
       "       [4298.012  ],\n",
       "       [4328.4424 ],\n",
       "       [4354.4253 ],\n",
       "       [4383.6035 ],\n",
       "       [4409.5615 ],\n",
       "       [4401.0625 ],\n",
       "       [4400.8535 ],\n",
       "       [4376.534  ],\n",
       "       [4352.579  ],\n",
       "       [4350.4556 ],\n",
       "       [4342.931  ],\n",
       "       [4370.3716 ],\n",
       "       [4470.6733 ],\n",
       "       [4527.0557 ],\n",
       "       [4528.894  ],\n",
       "       [4567.6187 ],\n",
       "       [4638.446  ],\n",
       "       [4699.395  ],\n",
       "       [4790.822  ],\n",
       "       [4860.1963 ],\n",
       "       [4935.176  ],\n",
       "       [4999.4336 ],\n",
       "       [5041.3105 ],\n",
       "       [5076.834  ],\n",
       "       [5090.6743 ],\n",
       "       [5089.3213 ],\n",
       "       [5086.6753 ],\n",
       "       [5108.757  ],\n",
       "       [5116.652  ],\n",
       "       [5124.791  ],\n",
       "       [5117.9214 ],\n",
       "       [5110.206  ],\n",
       "       [5042.7856 ],\n",
       "       [4970.2114 ],\n",
       "       [4842.291  ],\n",
       "       [4760.777  ],\n",
       "       [4649.6685 ],\n",
       "       [4504.4863 ],\n",
       "       [4375.464  ],\n",
       "       [4263.9663 ],\n",
       "       [4136.575  ],\n",
       "       [3905.4495 ],\n",
       "       [3857.1523 ],\n",
       "       [3800.816  ],\n",
       "       [3704.528  ],\n",
       "       [3408.0962 ],\n",
       "       [3165.388  ],\n",
       "       [2936.9558 ],\n",
       "       [2715.2087 ],\n",
       "       [2554.3564 ],\n",
       "       [2514.6292 ],\n",
       "       [2619.8901 ],\n",
       "       [2557.0332 ],\n",
       "       [2480.779  ],\n",
       "       [2380.117  ],\n",
       "       [2329.5095 ],\n",
       "       [2290.9038 ],\n",
       "       [2249.4958 ],\n",
       "       [2288.7634 ],\n",
       "       [2373.9548 ],\n",
       "       [2395.66   ],\n",
       "       [2344.3977 ],\n",
       "       [2359.6702 ],\n",
       "       [2363.7368 ],\n",
       "       [2329.591  ],\n",
       "       [2250.1719 ],\n",
       "       [2213.489  ],\n",
       "       [2173.7324 ],\n",
       "       [2110.2302 ],\n",
       "       [2087.3508 ],\n",
       "       [2114.4749 ],\n",
       "       [2198.8667 ],\n",
       "       [2223.777  ]], dtype=float32)"
      ]
     },
     "execution_count": 128,
     "metadata": {},
     "output_type": "execute_result"
    }
   ],
   "source": [
    "predictions"
   ]
  },
  {
   "cell_type": "markdown",
   "metadata": {},
   "source": [
    "## Future Predictions \n",
    "- Let forcast based on predicted result."
   ]
  },
  {
   "cell_type": "code",
   "execution_count": 147,
   "metadata": {},
   "outputs": [],
   "source": [
    "\n",
    "\n",
    "#predict_next 30 days\n",
    "\n",
    "t = 14\n",
    "\n",
    "last_60days    = test_features[-1]\n",
    "t_predictions    = [] \n",
    "for i in range(0,t):\n",
    "    temp = {}\n",
    "    temp['t'] = i\n",
    "    last_60days_rs  = np.reshape(last_60days[-180:],(1,180,1))\n",
    "    next_pred_sc    = model.predict(last_60days_rs)\n",
    "    next_pred_next  = scaler.inverse_transform(next_pred_sc)\n",
    "    temp['forecast'] = float(next_pred_next[0])\n",
    "    \n",
    "    last_60days = np.concatenate([last_60days,next_pred_sc])\n",
    "    \n",
    "    t_predictions.append(temp)\n",
    "    \n"
   ]
  },
  {
   "cell_type": "code",
   "execution_count": 148,
   "metadata": {},
   "outputs": [],
   "source": [
    "predictions_df = pd.DataFrame(t_predictions)\n",
    "predictions_df.head()\n",
    "\n",
    "future = predictions_df.forecast[1:].values"
   ]
  },
  {
   "cell_type": "code",
   "execution_count": 149,
   "metadata": {},
   "outputs": [],
   "source": [
    "predictions_1D = np.reshape(predictions,-1,1)\n",
    "future_1D = np.reshape(future,(-1,1))"
   ]
  },
  {
   "cell_type": "code",
   "execution_count": 150,
   "metadata": {},
   "outputs": [],
   "source": [
    "final = list(predictions_1D)+(list(future))"
   ]
  },
  {
   "cell_type": "code",
   "execution_count": 151,
   "metadata": {
    "scrolled": true
   },
   "outputs": [
    {
     "data": {
      "image/png": "[encoded data removed]",
      "text/plain": [
       "<Figure size 2160x576 with 1 Axes>"
      ]
     },
     "metadata": {
      "needs_background": "light"
     },
     "output_type": "display_data"
    }
   ],
   "source": [
    "plt.figure(figsize=(30,8))\n",
    "plt.plot(test_data,color='blue', label = 'Actual Stock Price')\n",
    "plt.plot(final,color='red', label = 'Predicted Stock Price')\n",
    "plt.title('BAJFINANCE Stock Price Prediction')\n",
    "plt.xlabel('Date')\n",
    "plt.ylabel('Stock opening price')\n",
    "plt.legend()\n",
    "plt.show()"
   ]
  },
  {
   "cell_type": "code",
   "execution_count": 153,
   "metadata": {},
   "outputs": [
    {
     "data": {
      "text/plain": [
       "array([[2247.75585938],\n",
       "       [2270.71704102],\n",
       "       [2292.92016602],\n",
       "       [2314.55102539],\n",
       "       [2335.76025391],\n",
       "       [2356.67431641],\n",
       "       [2377.40917969],\n",
       "       [2398.07226562],\n",
       "       [2418.76196289],\n",
       "       [2439.57250977],\n",
       "       [2460.59130859],\n",
       "       [2481.89746094],\n",
       "       [2503.56591797]])"
      ]
     },
     "execution_count": 153,
     "metadata": {},
     "output_type": "execute_result"
    }
   ],
   "source": [
    "future_1D"
   ]
  },
  {
   "cell_type": "markdown",
   "metadata": {},
   "source": [
    "### Conclusion\n",
    "\n",
    "- As per the Prediction the Stock price will be bunced back to 2503.565. \n",
    "\n",
    "- Again this might be wrong and it totally depends on other events in market like the lockdown extention.\n"
   ]
  },
  {
   "cell_type": "code",
   "execution_count": null,
   "metadata": {},
   "outputs": [],
   "source": []
  }
 ],
 "metadata": {
  "kernelspec": {
   "display_name": "Python 3",
   "language": "python",
   "name": "python3"
  },
  "language_info": {
   "codemirror_mode": {
    "name": "ipython",
    "version": 3
   },
   "file_extension": ".py",
   "mimetype": "text/x-python",
   "name": "python",
   "nbconvert_exporter": "python",
   "pygments_lexer": "ipython3",
   "version": "3.6.6"
  }
 },
 "nbformat": 4,
 "nbformat_minor": 2
}
