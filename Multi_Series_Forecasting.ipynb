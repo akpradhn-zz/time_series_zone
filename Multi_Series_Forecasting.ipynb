{
  "nbformat": 4,
  "nbformat_minor": 0,
  "metadata": {
    "colab": {
      "name": "Untitled",
      "provenance": [],
      "collapsed_sections": [],
      "toc_visible": true,
      "authorship_tag": "ABX9TyN9doReh4UmaBrcTzvZ5ve7",
      "include_colab_link": true
    },
    "kernelspec": {
      "name": "python3",
      "display_name": "Python 3"
    }
  },
  "cells": [
    {
      "cell_type": "markdown",
      "metadata": {
        "id": "view-in-github",
        "colab_type": "text"
      },
      "source": [
        "<a href=\"https://colab.research.google.com/github/akpradhn/time_series_zone/blob/f%2Flstm/Multi_Series_Forecasting.ipynb\" target=\"_parent\"><img src=\"https://colab.research.google.com/assets/colab-badge.svg\" alt=\"Open In Colab\"/></a>"
      ]
    },
    {
      "cell_type": "markdown",
      "metadata": {
        "id": "3MJyi_rU1nzd",
        "colab_type": "text"
      },
      "source": [
        "Let's say you want to predict the future for more than 1 series at once and get out put for all there series. \n"
      ]
    },
    {
      "cell_type": "markdown",
      "metadata": {
        "id": "TKycu0jd2i7g",
        "colab_type": "text"
      },
      "source": [
        "# 1. Introductions"
      ]
    },
    {
      "cell_type": "code",
      "metadata": {
        "id": "3KnzYymE1Ni_",
        "colab_type": "code",
        "colab": {}
      },
      "source": [
        "## Let's say you want to predict the future for more than 1 series at once and get out put for all there series. "
      ],
      "execution_count": 0,
      "outputs": []
    },
    {
      "cell_type": "markdown",
      "metadata": {
        "id": "YG0Nw3e32cbK",
        "colab_type": "text"
      },
      "source": [
        "# 2. Probelm Statements"
      ]
    },
    {
      "cell_type": "code",
      "metadata": {
        "id": "Td1o1nNZ7aaP",
        "colab_type": "code",
        "colab": {
          "base_uri": "https://localhost:8080/",
          "height": 52
        },
        "outputId": "254d0c77-f41e-441b-c5c5-59c08e289e50"
      },
      "source": [
        "!mkdir -m data\n",
        "variable_name = \"\" #@param {type:\"string\"}\n",
        "\n"
      ],
      "execution_count": 7,
      "outputs": [
        {
          "output_type": "stream",
          "text": [
            "mkdir: missing operand\n",
            "Try 'mkdir --help' for more information.\n"
          ],
          "name": "stdout"
        }
      ]
    },
    {
      "cell_type": "markdown",
      "metadata": {
        "id": "Ldj8VMRC1v3m",
        "colab_type": "text"
      },
      "source": [
        "# 3. Loading Datasets"
      ]
    },
    {
      "cell_type": "markdown",
      "metadata": {
        "id": "VQGRqB-V1z6i",
        "colab_type": "text"
      },
      "source": [
        "Learn Abount the Data Set\n"
      ]
    },
    {
      "cell_type": "markdown",
      "metadata": {
        "id": "hWVKHOBg1-Lr",
        "colab_type": "text"
      },
      "source": [
        "# 4. Learn Abount the Data Set\n"
      ]
    },
    {
      "cell_type": "markdown",
      "metadata": {
        "id": "9kuRdwGc2DS7",
        "colab_type": "text"
      },
      "source": [
        "# 5. Reshape the Data Set"
      ]
    },
    {
      "cell_type": "markdown",
      "metadata": {
        "id": "i5WGjMd_2KR_",
        "colab_type": "text"
      },
      "source": [
        "# 6. Build Model"
      ]
    },
    {
      "cell_type": "markdown",
      "metadata": {
        "id": "VuuvUzOk25Sj",
        "colab_type": "text"
      },
      "source": [
        "# 7. Fit model : Hyperparameter optimization"
      ]
    },
    {
      "cell_type": "markdown",
      "metadata": {
        "id": "I79fyBIV2MNW",
        "colab_type": "text"
      },
      "source": [
        "# 8. Fit the model : Train model with best hyper paramaeter."
      ]
    },
    {
      "cell_type": "markdown",
      "metadata": {
        "id": "6IFJ6zig2PW5",
        "colab_type": "text"
      },
      "source": [
        "# 9. Forecast the model"
      ]
    },
    {
      "cell_type": "markdown",
      "metadata": {
        "id": "1FXD5kAZ2WGz",
        "colab_type": "text"
      },
      "source": [
        "# 10. Conclusion and Future Scope"
      ]
    }
  ]
}